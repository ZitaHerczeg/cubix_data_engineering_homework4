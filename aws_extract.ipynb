{
 "cells": [
  {
   "cell_type": "markdown",
   "metadata": {},
   "source": [
    "# Imports"
   ]
  },
  {
   "cell_type": "code",
   "execution_count": null,
   "metadata": {
    "vscode": {
     "languageId": "plaintext"
    }
   },
   "outputs": [],
   "source": [
    "import json\n",
    "from datetime import datetime\n",
    "from dateutil.relativedelta import relativedelta\n",
    "import os\n",
    "import requests\n",
    "import boto3\n",
    "from typing import List, Dict"
   ]
  },
  {
   "cell_type": "markdown",
   "metadata": {},
   "source": [
    "# Aim"
   ]
  },
  {
   "cell_type": "markdown",
   "metadata": {},
   "source": [
    "The aim of this AWS Lamda function is to collect Taxi trips and weather data on daily basis."
   ]
  },
  {
   "cell_type": "markdown",
   "metadata": {},
   "source": [
    "# Steps"
   ]
  },
  {
   "cell_type": "markdown",
   "metadata": {},
   "source": [
    "DONE 0. configure memory (1000) and runtime (5min) <br />\n",
    "DONE 1. get one day's (T - 2 months) taxi data <br />\n",
    "DONE 2. get one day's (T - 2 months) weather data <br />\n",
    "DONE 3. upload to S3 raw_data/to_process/taxi_data or raw_data/to_process/weather data <br />\n",
    "DONE 4. organize functions <br />\n",
    "DONE 5. type hints <br />\n",
    "DONE 6. docstrings (automatisation with ChatGPT) <br />\n",
    "DONE 7. create triggers <br />"
   ]
  },
  {
   "cell_type": "markdown",
   "metadata": {},
   "source": [
    "# Functions Defined"
   ]
  },
  {
   "cell_type": "code",
   "execution_count": null,
   "metadata": {
    "vscode": {
     "languageId": "plaintext"
    }
   },
   "outputs": [],
   "source": [
    "def get_taxi_data(formatted_datetime: str) -> Dict: # Dict is the return data format\n",
    "\n",
    "    \"\"\"\n",
    "    Retrievs taxi data for a given date.\n",
    "\n",
    "    Parameters:\n",
    "    - formatted_datetime (str): containing the date in format \"YYYY_MM_DD\".\n",
    "\n",
    "    Returns:\n",
    "    . taxi_data_upload (dict): a dictionary as a json file containing taxi data.\n",
    "    \"\"\"\n",
    "    \n",
    "    # get taxi data\n",
    "    taxi_url = f\"\"\"https://data.cityofchicago.org/resource/ajtu-isnz.json?$where=trip_start_timestamp >= '{formatted_datetime}T00:00:00' AND trip_start_timestamp <= '{formatted_datetime}T23:59:59'&$limit=30000\"\"\"\n",
    "    response_taxi = requests.get(taxi_url)\n",
    "    taxi_data_upload = response_taxi.json()\n",
    "    \n",
    "    return taxi_data_upload"
   ]
  },
  {
   "cell_type": "code",
   "execution_count": null,
   "metadata": {
    "vscode": {
     "languageId": "plaintext"
    }
   },
   "outputs": [],
   "source": [
    "def get_weather_data(formatted_datetime: str) -> Dict:\n",
    "    \n",
    "    \"\"\" \n",
    "    Retrievs weather data for a given date.\n",
    "\n",
    "    Parameters:\n",
    "    - formatted_datetime (str): containing the date in format \"YYYY_MM_DD\".\n",
    "\n",
    "    Returns:\n",
    "     weather_data_upload (dict): a dictionary as a json file containing weather data.\n",
    "    \"\"\"\n",
    "    \n",
    "    # get weather data\n",
    "    weather_url = \"https://archive-api.open-meteo.com/v1/era5\"\n",
    "\n",
    "    params = {\n",
    "        'latitude': 41.85,\n",
    "        'longitude': -87.65,\n",
    "        'start_date': formatted_datetime,\n",
    "        'end_date': formatted_datetime,\n",
    "        'hourly': 'temperature_2m,wind_speed_10m,rain,precipitation'\n",
    "    }\n",
    "    \n",
    "    response_weather = requests.get(weather_url, params = params)\n",
    "    weather_data_upload = response_weather.json()\n",
    "    \n",
    "    return weather_data_upload"
   ]
  },
  {
   "cell_type": "code",
   "execution_count": null,
   "metadata": {
    "vscode": {
     "languageId": "plaintext"
    }
   },
   "outputs": [],
   "source": [
    "def upload_to_s3(data: Dict, foldername: str, filename: str) -> None:\n",
    "    \n",
    "    \"\"\" \n",
    "    Uploads data to AWS S3 bucket: cubix-chicago-taxi-zh.\n",
    "\n",
    "    Parameters:\n",
    "    - data (dict): containing the data to be uploaded in a json file.\n",
    "    - foldername (str): containing the target folder name.\n",
    "    - filename (str): containing the filename of the file uploaded.\n",
    "\n",
    "    Returns: \n",
    "    - None.\n",
    "    \"\"\"\n",
    "    \n",
    "    # upload weather data\n",
    "    client = boto3.client(\"s3\")\n",
    "    Bucket = \"cubix-chicago-taxi-zh\"\n",
    "    Key = f\"raw_data/to_process/{foldername}/{filename}\"\n",
    "    Body = json.dumps(data)\n",
    "    client.put_object(\n",
    "        Bucket = \"cubix-chicago-taxi-zh\", \n",
    "        Key = f\"raw_data/to_process/{foldername}/{filename}\", \n",
    "        Body = json.dumps(data)\n",
    "    )"
   ]
  },
  {
   "cell_type": "markdown",
   "metadata": {},
   "source": [
    "# Main Function"
   ]
  },
  {
   "cell_type": "code",
   "execution_count": null,
   "metadata": {
    "vscode": {
     "languageId": "plaintext"
    }
   },
   "outputs": [],
   "source": [
    "# MAIN\n",
    "def lambda_handler(event, context):\n",
    "\n",
    "    current_datetime = datetime.now() - relativedelta(months=2)\n",
    "    formatted_datetime = current_datetime.strftime(\"%Y-%m-%d\")\n",
    "    \n",
    "    taxi_data_upload = get_taxi_data(formatted_datetime)\n",
    "    print(\"Taxi data downloaded.\")\n",
    "    taxi_filename = f\"taxi_raw_{formatted_datetime}.json\"\n",
    "    upload_to_s3(taxi_data_upload, \"taxi_data\", taxi_filename)\n",
    "    print(\"Taxi data uploaded.\")\n",
    "    \n",
    "    weather_data_upload = get_weather_data(formatted_datetime)\n",
    "    print(\"Weather data downloaded.\")\n",
    "    weather_filename = f\"weather_raw_{formatted_datetime}.json\"\n",
    "    upload_to_s3(weather_data_upload, \"weather_data\", weather_filename)\n",
    "    print(\"Weather data uploaded.\")\n",
    "    \n",
    "    print(\"The script ran successfully.\")"
   ]
  }
 ],
 "metadata": {
  "language_info": {
   "name": "python"
  }
 },
 "nbformat": 4,
 "nbformat_minor": 2
}
